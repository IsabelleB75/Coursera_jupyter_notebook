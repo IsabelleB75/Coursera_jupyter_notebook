{
 "cells": [
  {
   "cell_type": "markdown",
   "metadata": {},
   "source": [
    "<center>\n",
    "    <img src=\"https://cf-courses-data.s3.us.cloud-object-storage.appdomain.cloud/IBMDeveloperSkillsNetwork-DS0105EN-SkillsNetwork/labs/Module2/images/SN_web_lightmode.png\" width=\"300\" alt=\"cognitiveclass.ai logo\">\n",
    "</center>\n"
   ]
  },
  {
   "cell_type": "markdown",
   "metadata": {},
   "source": [
    "#### Add your code below following the instructions given in the course\n"
   ]
  },
  {
   "cell_type": "markdown",
   "metadata": {},
   "source": [
    "# Tools for Data Science"
   ]
  },
  {
   "cell_type": "markdown",
   "metadata": {},
   "source": [
    "## Introduction"
   ]
  },
  {
   "cell_type": "markdown",
   "metadata": {},
   "source": [
    "### List of data science languages:\n",
    "1. Python\n",
    "2. R\n",
    "3. Julia\n",
    "4. C++\n",
    "5. SQL\n",
    "6. Java\n",
    "7. Scala"
   ]
  },
  {
   "cell_type": "markdown",
   "metadata": {},
   "source": [
    "### List of data science libraries\n",
    "- **Python**:\n",
    "  - **Data Manipulation and Analysis**: Pandas, NumPy, Dask\n",
    "  - **Visualization**: Matplotlib, Seaborn, Plotly, Bokeh\n",
    "  - **Machine Learning**: Scikit-learn, XGBoost, LightGBM\n",
    "  - **Deep Learning**: TensorFlow, Keras, PyTorch\n",
    "  - **Natural Language Processing**: NLTK, Spacy, Gensim\n",
    "  - **Time Series**: Statsmodels, Prophet\n",
    "  - **Big Data**: PySpark\n",
    "- **R**:\n",
    "  - **Data Manipulation**: dplyr, tidyr\n",
    "  - **Visualization**: ggplot2, lattice\n",
    "  - **Machine Learning**: caret, randomForest, xgboost\n",
    "  - **Statistics**: stats, lme4\n",
    "- **SQL**:\n",
    "  - **Big Data**: Hive, Pig\n",
    "- **Java**:\n",
    "  - **Machine Learning**: Weka, MOA\n",
    "  - **Big Data**: Hadoop\n",
    "- **Scala**:\n",
    "  - **Big Data**: Spark\n"
   ]
  },
  {
   "cell_type": "markdown",
   "metadata": {},
   "source": [
    " ### Table of Data Science tools\n",
    "\n",
    "| Category                      | Tool       | Description                                              |\n",
    "|-------------------------------|------------|----------------------------------------------------------|\n",
    "| Data Manipulation and Analysis| Pandas     | Python library for data manipulation and analysis        |\n",
    "|                               | NumPy      | Python library for numerical computations                |\n",
    "| Visualization                 | Matplotlib | Python 2D plotting library                               |\n",
    "|                               | Seaborn    | Data visualization library based on Matplotlib           |\n",
    "| Machine Learning              | Scikit-learn | Python library for machine learning                      |\n",
    "|                               | XGBoost    | Gradient boosting framework                              |\n",
    "| Deep Learning                 | TensorFlow | Open-source deep learning framework                      |\n",
    "|                               | Keras      | Neural networks API for Python                           |\n",
    "| Natural Language Processing   | NLTK       | Python library for working with human language data      |\n",
    "|                               | Spacy      | Python library for industrial-strength NLP                |\n",
    "| Time Series                   | Statsmodels | Python library for statistical models and tests           |\n",
    "| Big Data                      | PySpark    | Python API for Apache Spark                              |\n",
    "| Database                      | SQL        | Language for managing and querying relational databases  |\n",
    "|                               | Hive       | Data warehouse infrastructure on top of Hadoop           |\n"
   ]
  },
  {
   "cell_type": "markdown",
   "metadata": {},
   "source": [
    "# Arithmetic Expressions in Python\n",
    "\n",
    "Arithmetic expressions are used to perform mathematical operations with values. Here are some common arithmetic operations in Python:\n",
    "\n",
    "- **Addition (`+`)**:\n",
    "  - Example: `5 + 3` results in `8`\n",
    "\n",
    "- **Subtraction (`-`)**:\n",
    "  - Example: `9 - 4` results in `5`\n",
    "\n",
    "- **Multiplication (`*`)**:\n",
    "  - Example: `6 * 7` results in `42`\n",
    "\n",
    "- **Division (`/`)**:\n",
    "  - Example: `8 / 2` results in `4.0`\n",
    "\n",
    "- **Floor Division (`//`)**:\n",
    "  - Returns the largest possible integer.\n",
    "  - Example: `10 // 3` results in `3`\n",
    "\n",
    "- **Modulus (`%`)**:\n",
    "  - Returns the remainder of a division.\n",
    "  - Example: `10 % 3` results in `1`\n",
    "\n",
    "- **Exponentiation (`**`)**:\n",
    "  - Raises a number to the power of another number.\n",
    "  - Example: `5 ** 3` results in `125`\n",
    "\n",
    "Remember that arithmetic expressions in Python follow the usual order of operations (PEMDAS/BODMAS).\n"
   ]
  },
  {
   "cell_type": "code",
   "execution_count": 1,
   "metadata": {
    "tags": []
   },
   "outputs": [
    {
     "data": {
      "text/plain": [
       "(15, 8)"
      ]
     },
     "execution_count": 1,
     "metadata": {},
     "output_type": "execute_result"
    }
   ],
   "source": [
    "# Defining functions to multiply and add numbers\n",
    "\n",
    "def multiply(a, b):\n",
    "    return a * b\n",
    "\n",
    "def add(a, b):\n",
    "    return a + b\n",
    "\n",
    "# Example usage\n",
    "multiplication_result = multiply(5, 3)\n",
    "addition_result = add(5, 3)\n",
    "\n",
    "multiplication_result, addition_result\n"
   ]
  },
  {
   "cell_type": "code",
   "execution_count": 2,
   "metadata": {
    "tags": []
   },
   "outputs": [
    {
     "data": {
      "text/plain": [
       "2.5"
      ]
     },
     "execution_count": 2,
     "metadata": {},
     "output_type": "execute_result"
    }
   ],
   "source": [
    "def minutes_to_hours(minutes):\n",
    "    hours = minutes / 60\n",
    "    return hours\n",
    "\n",
    "# Example usage\n",
    "minutes = 150\n",
    "converted_hours = minutes_to_hours(minutes)\n",
    "\n",
    "converted_hours\n"
   ]
  },
  {
   "cell_type": "markdown",
   "metadata": {},
   "source": [
    "# Objectives\n",
    "\n",
    "1. Understand the fundamentals of data analysis.\n",
    "2. Learn the basics of statistical modeling.\n",
    "3. Acquire proficiency in using data visualization tools.\n",
    "4. Develop skills in machine learning algorithms and their applications.\n",
    "5. Implement real-world projects to enhance problem-solving capabilities.\n",
    "6. Stay updated with the latest trends and technologies in data science.\n"
   ]
  },
  {
   "cell_type": "markdown",
   "metadata": {},
   "source": [
    "# Author\n",
    "\n",
    "**Name:** Isabelle Bordet\n"
   ]
  },
  {
   "cell_type": "code",
   "execution_count": null,
   "metadata": {},
   "outputs": [],
   "source": []
  }
 ],
 "metadata": {
  "kernelspec": {
   "display_name": "Python",
   "language": "python",
   "name": "conda-env-python-py"
  },
  "language_info": {
   "codemirror_mode": {
    "name": "ipython",
    "version": 3
   },
   "file_extension": ".py",
   "mimetype": "text/x-python",
   "name": "python",
   "nbconvert_exporter": "python",
   "pygments_lexer": "ipython3",
   "version": "3.7.12"
  }
 },
 "nbformat": 4,
 "nbformat_minor": 4
}
